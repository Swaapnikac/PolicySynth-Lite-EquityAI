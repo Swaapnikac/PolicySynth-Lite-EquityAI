{
  "nbformat": 4,
  "nbformat_minor": 0,
  "metadata": {
    "colab": {
      "provenance": []
    },
    "kernelspec": {
      "name": "python3",
      "display_name": "Python 3"
    },
    "language_info": {
      "name": "python"
    }
  },
  "cells": [
    {
      "cell_type": "code",
      "execution_count": null,
      "metadata": {
        "id": "u7fL3mXAZd6p"
      },
      "outputs": [],
      "source": [
        "!pip install openai langchain streamlit faiss-cpu python-dotenv requests pandas"
      ]
    },
    {
      "cell_type": "code",
      "source": [
        "import os\n",
        "import requests\n",
        "import pandas as pd\n",
        "from dotenv import load_dotenv\n",
        "from langchain.chat_models import ChatOpenAI\n",
        "from langchain.schema import HumanMessage\n",
        "from langchain.text_splitter import RecursiveCharacterTextSplitter\n",
        "\n",
        "load_dotenv()\n",
        "OPENAI_API_KEY = os.getenv(\"OPENAI_API_KEY\")\n",
        "\n",
        "llm = ChatOpenAI(model=\"gpt-4o\", temperature=0.2, openai_api_key=OPENAI_API_KEY)"
      ],
      "metadata": {
        "id": "AHvKDOnaZino"
      },
      "execution_count": null,
      "outputs": []
    },
    {
      "cell_type": "code",
      "source": [
        "import textwrap\n",
        "\n",
        "def fetch_web_stub(topic: str):\n",
        "\n",
        "    sample = f\"\"\"\n",
        "    {topic} is a current civic and policy challenge. It affects vulnerable groups, especially residents with low income,\n",
        "    immigrants with language-access barriers, and people with disabilities. Governments are trying to improve service delivery\n",
        "    but face constraints like funding, data quality, and outdated processes.\n",
        "    \"\"\"\n",
        "    return [sample]\n",
        "\n",
        "def chunk_text(docs, chunk_size=1000, chunk_overlap=200):\n",
        "    splitter = RecursiveCharacterTextSplitter(\n",
        "        chunk_size=chunk_size,\n",
        "        chunk_overlap=chunk_overlap\n",
        "    )\n",
        "    all_chunks = []\n",
        "    for d in docs:\n",
        "        all_chunks.extend(splitter.split_text(d))\n",
        "    return all_chunks"
      ],
      "metadata": {
        "id": "-08wjge6ZkJS"
      },
      "execution_count": null,
      "outputs": []
    },
    {
      "cell_type": "code",
      "source": [
        "def summarize_chunk(chunk):\n",
        "    prompt = f\"\"\"\n",
        "    You are assisting a civic innovation team. Summarize the following text in 4-5 sentences.\n",
        "    Keep it factual and civic-oriented.\n",
        "\n",
        "    Text:\n",
        "    {chunk}\n",
        "    \"\"\"\n",
        "    resp = llm([HumanMessage(content=prompt)])\n",
        "    return resp.content.strip()\n",
        "\n",
        "def summarize_all(chunks):\n",
        "    summaries = [summarize_chunk(c) for c in chunks]\n",
        "    return \"\\n\".join(summaries)"
      ],
      "metadata": {
        "id": "au3NvjSpZlgA"
      },
      "execution_count": null,
      "outputs": []
    },
    {
      "cell_type": "code",
      "source": [
        "def generate_policy_brief(topic, context):\n",
        "    prompt = f\"\"\"\n",
        "    You are an AI for Impact assistant helping a public innovation team at a university center.\n",
        "    Based on the context below, create a structured, equity-aware policy brief.\n",
        "\n",
        "    Topic: {topic}\n",
        "\n",
        "    Context:\n",
        "    {context}\n",
        "\n",
        "    Your output MUST follow this JSON structure:\n",
        "\n",
        "    {{\n",
        "      \"topic\": \"...\",\n",
        "      \"summary\": \"...\",\n",
        "      \"affected_populations\": [\"...\", \"...\"],\n",
        "      \"stakeholders\": [\"government agencies\", \"NGOs\", \"community partners\", \"residents\"],\n",
        "      \"policy_options\": [\n",
        "        {{\n",
        "          \"name\": \"Option 1\",\n",
        "          \"description\": \"...\",\n",
        "          \"pros\": [\"...\"],\n",
        "          \"cons\": [\"...\"],\n",
        "          \"equity_impact\": \"...\"\n",
        "        }},\n",
        "        {{\n",
        "          \"name\": \"Option 2\",\n",
        "          \"description\": \"...\",\n",
        "          \"pros\": [\"...\"],\n",
        "          \"cons\": [\"...\"],\n",
        "          \"equity_impact\": \"...\"\n",
        "        }}\n",
        "      ],\n",
        "      \"risks\": [\"...\"],\n",
        "      \"data_gaps\": [\"...\"],\n",
        "      \"recommended_next_steps\": [\"user testing with affected groups\", \"check legal/policy alignment\"]\n",
        "    }}\n",
        "\n",
        "    Make sure options are realistic for a state agency, city department, or nonprofit partner.\n",
        "    \"\"\"\n",
        "    resp = llm([HumanMessage(content=prompt)])\n",
        "    return resp.content"
      ],
      "metadata": {
        "id": "iBynS2upZoVA"
      },
      "execution_count": null,
      "outputs": []
    },
    {
      "cell_type": "code",
      "source": [
        "topic = \"paratransit accessibility for disabled riders in Massachusetts\"\n",
        "docs = fetch_web_stub(topic)\n",
        "chunks = chunk_text(docs)\n",
        "context = summarize_all(chunks)\n",
        "brief = generate_policy_brief(topic, context)\n",
        "print(brief)"
      ],
      "metadata": {
        "id": "1C8MzzwnZrN5"
      },
      "execution_count": null,
      "outputs": []
    },
    {
      "cell_type": "code",
      "source": [
        "import streamlit as st\n",
        "\n",
        "st.title(\"PolicySynth Lite 2.0 – Equity AI\")\n",
        "\n",
        "topic = st.text_input(\"Enter a civic / policy topic\", \"language access for immigrant families in Massachusetts\")\n",
        "\n",
        "if st.button(\"Generate Brief\"):\n",
        "    docs = fetch_web_stub(topic)\n",
        "    chunks = chunk_text(docs)\n",
        "    context = summarize_all(chunks)\n",
        "    brief = generate_policy_brief(topic, context)\n",
        "    st.json(brief)"
      ],
      "metadata": {
        "id": "VZJnysDIZtI0"
      },
      "execution_count": null,
      "outputs": []
    }
  ]
}